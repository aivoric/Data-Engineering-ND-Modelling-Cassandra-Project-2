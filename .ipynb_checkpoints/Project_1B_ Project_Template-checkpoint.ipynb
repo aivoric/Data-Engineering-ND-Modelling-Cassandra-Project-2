{
 "cells": [
  {
   "cell_type": "markdown",
   "metadata": {},
   "source": [
    "## ETL Pipeline for Pre-Processing the Files"
   ]
  },
  {
   "cell_type": "markdown",
   "metadata": {},
   "source": [
    "#### Import Python packages "
   ]
  },
  {
   "cell_type": "code",
   "execution_count": 11,
   "metadata": {},
   "outputs": [],
   "source": [
    "import csv\n",
    "import os\n",
    "import glob\n",
    "import csv\n",
    "from cassandra.cluster import Cluster"
   ]
  },
  {
   "cell_type": "markdown",
   "metadata": {},
   "source": [
    "#### Creating list of filepaths to process original event csv data files"
   ]
  },
  {
   "cell_type": "code",
   "execution_count": 12,
   "metadata": {},
   "outputs": [
    {
     "name": "stdout",
     "output_type": "stream",
     "text": [
      "/Users/ivankhokhlov/DataEngineering/Project 2 - Modelling with Apache Cassandra\n"
     ]
    }
   ],
   "source": [
    "# checking your current working directory\n",
    "print(os.getcwd())\n",
    "\n",
    "# Get your current folder and subfolder event data\n",
    "filepath = os.getcwd() + '/event_data'\n",
    "\n",
    "# Create a for loop to create a list of files and collect each filepath\n",
    "for root, dirs, files in os.walk(filepath):\n",
    "    \n",
    "# join the file path and roots with the subdirectories using glob\n",
    "    file_path_list = glob.glob(os.path.join(root,'*'))\n",
    "    #print(file_path_list)"
   ]
  },
  {
   "cell_type": "markdown",
   "metadata": {},
   "source": [
    "#### Processing the files to create the data file csv that will be used for Apache Casssandra tables"
   ]
  },
  {
   "cell_type": "code",
   "execution_count": 13,
   "metadata": {},
   "outputs": [],
   "source": [
    "# initiating an empty list of rows that will be generated from each file\n",
    "full_data_rows_list = [] \n",
    "    \n",
    "# for every filepath in the file path list \n",
    "for f in file_path_list:\n",
    "\n",
    "# reading csv file \n",
    "    with open(f, 'r', encoding = 'utf8', newline='') as csvfile: \n",
    "        # creating a csv reader object \n",
    "        csvreader = csv.reader(csvfile) \n",
    "        next(csvreader)\n",
    "        \n",
    " # extracting each data row one by one and append it        \n",
    "        for line in csvreader:\n",
    "            #print(line)\n",
    "            full_data_rows_list.append(line) \n",
    "            \n",
    "# uncomment the code below if you would like to get total number of rows \n",
    "#print(len(full_data_rows_list))\n",
    "# uncomment the code below if you would like to check to see what the list of event data rows will look like\n",
    "#print(full_data_rows_list)\n",
    "\n",
    "# creating a smaller event data csv file called event_datafile_full csv that will be used to insert data into the \\\n",
    "# Apache Cassandra tables\n",
    "csv.register_dialect('myDialect', quoting=csv.QUOTE_ALL, skipinitialspace=True)\n",
    "\n",
    "with open('event_datafile_new.csv', 'w', encoding = 'utf8', newline='') as f:\n",
    "    writer = csv.writer(f, dialect='myDialect')\n",
    "    writer.writerow(['artist','firstName','gender','itemInSession','lastName','length',\\\n",
    "                'level','location','sessionId','song','userId'])\n",
    "    for row in full_data_rows_list:\n",
    "        if (row[0] == ''):\n",
    "            continue\n",
    "        writer.writerow((row[0], row[2], row[3], row[4], row[5], row[6], row[7], row[8], row[12], row[13], row[16]))\n"
   ]
  },
  {
   "cell_type": "code",
   "execution_count": 14,
   "metadata": {},
   "outputs": [
    {
     "name": "stdout",
     "output_type": "stream",
     "text": [
      "6821\n"
     ]
    }
   ],
   "source": [
    "# check the number of rows in your csv file\n",
    "with open('event_datafile_new.csv', 'r', encoding = 'utf8') as f:\n",
    "    print(sum(1 for line in f))"
   ]
  },
  {
   "cell_type": "markdown",
   "metadata": {},
   "source": [
    "## Data Modelling"
   ]
  },
  {
   "cell_type": "markdown",
   "metadata": {},
   "source": [
    "#### Keyspace: sparkifydb "
   ]
  },
  {
   "cell_type": "markdown",
   "metadata": {},
   "source": [
    "#### Table 1: song_session_history"
   ]
  },
  {
   "cell_type": "markdown",
   "metadata": {},
   "source": [
    "Modelled to answer the question: \"Give me the artist, song title and song's length in the music app history that was heard during sessionId = 338, and itemInSession = 4\""
   ]
  },
  {
   "cell_type": "markdown",
   "metadata": {},
   "source": [
    "session_id and item_in_session are used as primary key and clustering columns because we have a WHERE statement which groups data by those fields. It also ensures every row is correctly unique."
   ]
  },
  {
   "cell_type": "markdown",
   "metadata": {},
   "source": [
    "#### Table 2: user_session_history"
   ]
  },
  {
   "cell_type": "markdown",
   "metadata": {},
   "source": [
    "Modelled to answer the question: Give me only the following: name of artist, song (sorted by itemInSession) and user (first and last name) for userid = 10, sessionid = 182"
   ]
  },
  {
   "cell_type": "markdown",
   "metadata": {},
   "source": [
    "user_id, session_id, and item_in_session are used as primary key and clustering columns because we have a WHERE statement which groups data by the user_id and session_id columns and we also need to sort by the item_in_session column."
   ]
  },
  {
   "cell_type": "markdown",
   "metadata": {},
   "source": [
    "#### Table 3: user_song_history"
   ]
  },
  {
   "cell_type": "markdown",
   "metadata": {},
   "source": [
    "Modelled to answer the question: Give me every user name (first and last) in my music app history who listened to the song 'All Hands Against His Own'"
   ]
  },
  {
   "cell_type": "markdown",
   "metadata": {},
   "source": [
    "song_title and user_id are used as primary key and clustering columns because this gives us a unique combination of all the songs listened by every individual user. Since we are also using song_title in the WHERE statement then this our perfect partioning key."
   ]
  },
  {
   "cell_type": "markdown",
   "metadata": {},
   "source": [
    "## Preparing CQL statements"
   ]
  },
  {
   "cell_type": "markdown",
   "metadata": {},
   "source": [
    "The CQL statements below will be used in the data processing code later."
   ]
  },
  {
   "cell_type": "code",
   "execution_count": 15,
   "metadata": {},
   "outputs": [],
   "source": [
    "create_db = (\"\"\"\n",
    "    CREATE KEYSPACE IF NOT EXISTS sparkifydb \n",
    "    WITH REPLICATION = \n",
    "    { 'class' : 'SimpleStrategy', 'replication_factor' : 1 }\"\"\"\n",
    ")\n",
    "\n",
    "# TABLE 1 DATA\n",
    "# 1. Give me the artist, song title and song's length in the music app history that was heard during sessionId = 338, and itemInSession = 4\n",
    "\n",
    "create_table_1 = (\"\"\"\n",
    "    CREATE TABLE IF NOT EXISTS song_session_history (\n",
    "        session_id int\n",
    "        , item_in_session int\n",
    "        , artist text\n",
    "        , song_title text\n",
    "        , song_length double\n",
    "    , PRIMARY KEY (session_id, item_in_session))\n",
    "\"\"\")\n",
    "\n",
    "insert_table_1 = (\"\"\"\n",
    "    INSERT INTO song_session_history (\n",
    "        session_id\n",
    "        , item_in_session\n",
    "        , artist\n",
    "        , song_title\n",
    "        , song_length\n",
    "    )\n",
    "    VALUES (%s, %s, %s, %s, %s)\n",
    "\"\"\")\n",
    "\n",
    "select_table_1 = (\"\"\"\n",
    "    SELECT\n",
    "        artist\n",
    "        , song_title\n",
    "        , song_length\n",
    "    FROM song_session_history\n",
    "    WHERE session_id = 338\n",
    "    AND item_in_session = 4\n",
    "\"\"\")\n",
    "\n",
    "drop_table_1 = (\"\"\"\n",
    "    DROP TABLE song_session_history\n",
    "\"\"\")\n",
    "\n",
    "\n",
    "# TABLE 2 DATA\n",
    "# 2. Give me only the following: name of artist, song (sorted by itemInSession) and user (first and last name) for userid = 10, sessionid = 182\n",
    "\n",
    "create_table_2 = (\"\"\"\n",
    "    CREATE TABLE IF NOT EXISTS user_session_history (\n",
    "        user_id int\n",
    "        , session_id int\n",
    "        , item_in_session int\n",
    "        , artist text\n",
    "        , song_title text\n",
    "        , user_first_name text\n",
    "        , user_last_name text\n",
    "    , PRIMARY KEY (user_id, session_id, item_in_session))\n",
    "\"\"\")\n",
    "\n",
    "insert_table_2 = (\"\"\"\n",
    "    INSERT INTO user_session_history (\n",
    "        user_id\n",
    "        , session_id\n",
    "        , item_in_session\n",
    "        , artist\n",
    "        , song_title\n",
    "        , user_first_name\n",
    "        , user_last_name\n",
    "    )\n",
    "    VALUES (%s, %s, %s, %s, %s, %s, %s)\n",
    "\"\"\")\n",
    "\n",
    "select_table_2 = (\"\"\"\n",
    "    SELECT\n",
    "        artist\n",
    "        , song_title\n",
    "        , user_first_name\n",
    "        , user_last_name\n",
    "    FROM user_session_history\n",
    "    WHERE user_id = 10\n",
    "    AND session_id = 182\n",
    "    ORDER BY session_id, item_in_session\n",
    "\"\"\")\n",
    "\n",
    "drop_table_2 = (\"\"\"\n",
    "    DROP TABLE user_session_history\n",
    "\"\"\")\n",
    "\n",
    "\n",
    "# TABLE 3 DATA\n",
    "# 3. Give me every user name (first and last) in my music app history who listened to the song 'All Hands Against His Own'\n",
    "\n",
    "create_table_3 = (\"\"\"\n",
    "    CREATE TABLE IF NOT EXISTS user_song_history (\n",
    "        song_title text\n",
    "        , user_id int\n",
    "        , user_first_name text\n",
    "        , user_last_name text\n",
    "    , PRIMARY KEY (song_title, user_id))\n",
    "\"\"\")\n",
    "\n",
    "insert_table_3 = (\"\"\"\n",
    "    INSERT INTO user_song_history (\n",
    "        song_title\n",
    "        , user_id\n",
    "        , user_first_name\n",
    "        , user_last_name\n",
    "    )\n",
    "    VALUES (%s, %s, %s, %s)\n",
    "\"\"\")\n",
    "\n",
    "select_table_3 = (\"\"\"\n",
    "    SELECT\n",
    "        user_first_name\n",
    "        , user_last_name\n",
    "    FROM user_song_history\n",
    "    WHERE song_title = 'All Hands Against His Own'\n",
    "\"\"\")\n",
    "\n",
    "drop_table_3 = (\"\"\"\n",
    "    DROP TABLE user_song_history\n",
    "\"\"\")\n",
    "\n",
    "\n",
    "create_queries = [create_table_1, create_table_2, create_table_3]\n",
    "insert_queries = [insert_table_1, insert_table_2, insert_table_3]\n",
    "select_queries = [select_table_1, select_table_2, select_table_3]\n",
    "drop_queries = [drop_table_1, drop_table_2, drop_table_3]"
   ]
  },
  {
   "cell_type": "markdown",
   "metadata": {},
   "source": [
    "## Create a connection to Cassandra and then create the database"
   ]
  },
  {
   "cell_type": "markdown",
   "metadata": {},
   "source": [
    "#### Creating a Cluster"
   ]
  },
  {
   "cell_type": "code",
   "execution_count": 16,
   "metadata": {},
   "outputs": [],
   "source": [
    "try: \n",
    "    cluster = Cluster(['127.0.0.1']) #If you have a locally installed Apache Cassandra instance\n",
    "    session = cluster.connect()\n",
    "except Exception as e:\n",
    "    print(e)"
   ]
  },
  {
   "cell_type": "markdown",
   "metadata": {},
   "source": [
    "#### Create Keyspace"
   ]
  },
  {
   "cell_type": "code",
   "execution_count": 17,
   "metadata": {},
   "outputs": [],
   "source": [
    "try:\n",
    "    session.execute(create_db)\n",
    "except Exception as e:\n",
    "    print(e)"
   ]
  },
  {
   "cell_type": "markdown",
   "metadata": {},
   "source": [
    "#### Set Keyspace"
   ]
  },
  {
   "cell_type": "code",
   "execution_count": 18,
   "metadata": {},
   "outputs": [],
   "source": [
    "try:\n",
    "    session.set_keyspace('sparkifydb')\n",
    "except Exception as e:\n",
    "    print(e)"
   ]
  },
  {
   "cell_type": "markdown",
   "metadata": {},
   "source": [
    "## Create the tables, insert the data, read the data, and then drop the tables"
   ]
  },
  {
   "cell_type": "markdown",
   "metadata": {},
   "source": [
    "#### Create the tables"
   ]
  },
  {
   "cell_type": "code",
   "execution_count": 19,
   "metadata": {},
   "outputs": [],
   "source": [
    "for query in create_queries:\n",
    "    try:\n",
    "        session.execute(query)\n",
    "    except Exception as e:\n",
    "        print(e)"
   ]
  },
  {
   "cell_type": "markdown",
   "metadata": {},
   "source": [
    "#### Insert data into the tables"
   ]
  },
  {
   "cell_type": "code",
   "execution_count": 20,
   "metadata": {},
   "outputs": [],
   "source": [
    "file = 'event_datafile_new.csv'\n",
    "with open(file, encoding = 'utf8') as f:\n",
    "    csvreader = csv.reader(f)\n",
    "    next(csvreader) # skip header\n",
    "    for line in csvreader:\n",
    "        session.execute(insert_queries[0], (int(line[8]), int(line[3]), str(line[0]), str(line[9]), float(line[5])))\n",
    "        session.execute(insert_queries[1], (int(line[10]), int(line[8]), int(line[3]), str(line[0]), str(line[9]),  str(line[1]), str(line[4])))\n",
    "        session.execute(insert_queries[2], (str(line[9]), int(line[10]), str(line[1]), str(line[4])))"
   ]
  },
  {
   "cell_type": "markdown",
   "metadata": {},
   "source": [
    "#### Select the data from the tables"
   ]
  },
  {
   "cell_type": "code",
   "execution_count": 21,
   "metadata": {
    "scrolled": true
   },
   "outputs": [
    {
     "name": "stdout",
     "output_type": "stream",
     "text": [
      "\n",
      "Results:\n",
      "\n",
      "Row(artist='Faithless', song_title='Music Matters (Mark Knight Dub)', song_length=495.3073)\n",
      "\n",
      "Results:\n",
      "\n",
      "Row(artist='Down To The Bone', song_title=\"Keep On Keepin' On\", user_first_name='Sylvie', user_last_name='Cruz')\n",
      "Row(artist='Three Drives', song_title='Greece 2000', user_first_name='Sylvie', user_last_name='Cruz')\n",
      "Row(artist='Sebastien Tellier', song_title='Kilometer', user_first_name='Sylvie', user_last_name='Cruz')\n",
      "Row(artist='Lonnie Gordon', song_title='Catch You Baby (Steve Pitron & Max Sanna Radio Edit)', user_first_name='Sylvie', user_last_name='Cruz')\n",
      "\n",
      "Results:\n",
      "\n",
      "Row(user_first_name='Jacqueline', user_last_name='Lynch')\n",
      "Row(user_first_name='Tegan', user_last_name='Levine')\n",
      "Row(user_first_name='Sara', user_last_name='Johnson')\n"
     ]
    }
   ],
   "source": [
    "for query in select_queries:\n",
    "    try:\n",
    "        rows = session.execute(query)\n",
    "    except Exception as e:\n",
    "        print(e)\n",
    "        \n",
    "    print(\"\\nResults:\\n\")\n",
    "    for row in rows:\n",
    "        print(row)"
   ]
  },
  {
   "cell_type": "markdown",
   "metadata": {},
   "source": [
    "#### Drop all the tables"
   ]
  },
  {
   "cell_type": "code",
   "execution_count": 22,
   "metadata": {},
   "outputs": [],
   "source": [
    "for query in drop_queries:\n",
    "    try:\n",
    "        rows = session.execute(query)\n",
    "    except Exception as e:\n",
    "        print(e)"
   ]
  },
  {
   "cell_type": "markdown",
   "metadata": {},
   "source": [
    "#### Close the session and cluster connection¶"
   ]
  },
  {
   "cell_type": "code",
   "execution_count": 23,
   "metadata": {},
   "outputs": [],
   "source": [
    "session.shutdown()\n",
    "cluster.shutdown()"
   ]
  }
 ],
 "metadata": {
  "kernelspec": {
   "display_name": "Python 3",
   "language": "python",
   "name": "python3"
  },
  "language_info": {
   "codemirror_mode": {
    "name": "ipython",
    "version": 3
   },
   "file_extension": ".py",
   "mimetype": "text/x-python",
   "name": "python",
   "nbconvert_exporter": "python",
   "pygments_lexer": "ipython3",
   "version": "3.8.5"
  }
 },
 "nbformat": 4,
 "nbformat_minor": 4
}
